{
 "cells": [
  {
   "cell_type": "markdown",
   "metadata": {},
   "source": [
    "# Projeto 1 de Probabilidade e Estatítica\n",
    "Neste arquivo edito os dados fornecidos em aula. São dados de amostragem pequena, por isso, não confiáveis"
   ]
  },
  {
   "cell_type": "code",
   "execution_count": 36,
   "metadata": {},
   "outputs": [],
   "source": [
    "import pandas as pd"
   ]
  },
  {
   "cell_type": "code",
   "execution_count": 43,
   "metadata": {},
   "outputs": [],
   "source": [
    "import numpy as np"
   ]
  },
  {
   "cell_type": "code",
   "execution_count": 40,
   "metadata": {
    "scrolled": true
   },
   "outputs": [],
   "source": [
    "df=pd.read_excel(\"C:\\\\projects\\\\tests\\\\Tabela_Questionario_original.xlsx\")"
   ]
  },
  {
   "cell_type": "code",
   "execution_count": 41,
   "metadata": {
    "scrolled": false
   },
   "outputs": [
    {
     "data": {
      "text/html": [
       "<div>\n",
       "<style scoped>\n",
       "    .dataframe tbody tr th:only-of-type {\n",
       "        vertical-align: middle;\n",
       "    }\n",
       "\n",
       "    .dataframe tbody tr th {\n",
       "        vertical-align: top;\n",
       "    }\n",
       "\n",
       "    .dataframe thead th {\n",
       "        text-align: right;\n",
       "    }\n",
       "</style>\n",
       "<table border=\"1\" class=\"dataframe\">\n",
       "  <thead>\n",
       "    <tr style=\"text-align: right;\">\n",
       "      <th></th>\n",
       "      <th>Número</th>\n",
       "      <th>Região de Procedência</th>\n",
       "      <th>Sexo</th>\n",
       "      <th>Estado Civil</th>\n",
       "      <th>Número de Filhos</th>\n",
       "      <th>Idade</th>\n",
       "      <th>Altura</th>\n",
       "      <th>Peso</th>\n",
       "      <th>Após a conclusão do BCT, você pretende fazer?</th>\n",
       "      <th>IMC</th>\n",
       "    </tr>\n",
       "  </thead>\n",
       "  <tbody>\n",
       "    <tr>\n",
       "      <th>0</th>\n",
       "      <td>1</td>\n",
       "      <td>Outros municípios do estado de São Paulo</td>\n",
       "      <td>F</td>\n",
       "      <td>Solteiro</td>\n",
       "      <td>Não tenho</td>\n",
       "      <td>18</td>\n",
       "      <td>163</td>\n",
       "      <td>51</td>\n",
       "      <td>Bacharelado em Ciência da Computação</td>\n",
       "      <td>19.195303</td>\n",
       "    </tr>\n",
       "    <tr>\n",
       "      <th>1</th>\n",
       "      <td>2</td>\n",
       "      <td>Outros municípios do estado de São Paulo</td>\n",
       "      <td>F</td>\n",
       "      <td>Solteiro</td>\n",
       "      <td>Não tenho</td>\n",
       "      <td>21</td>\n",
       "      <td>150</td>\n",
       "      <td>44</td>\n",
       "      <td>Engenharia da Computação</td>\n",
       "      <td>19.555556</td>\n",
       "    </tr>\n",
       "    <tr>\n",
       "      <th>2</th>\n",
       "      <td>3</td>\n",
       "      <td>São José dos Campos</td>\n",
       "      <td>M</td>\n",
       "      <td>Solteiro</td>\n",
       "      <td>Não tenho</td>\n",
       "      <td>21</td>\n",
       "      <td>178</td>\n",
       "      <td>71</td>\n",
       "      <td>Bacharelado em Ciência da Computação</td>\n",
       "      <td>22.408787</td>\n",
       "    </tr>\n",
       "    <tr>\n",
       "      <th>3</th>\n",
       "      <td>4</td>\n",
       "      <td>Vale do Paraíba (com exceção de SJC)</td>\n",
       "      <td>M</td>\n",
       "      <td>Solteiro</td>\n",
       "      <td>Não tenho</td>\n",
       "      <td>19</td>\n",
       "      <td>180</td>\n",
       "      <td>65</td>\n",
       "      <td>Engenharia da Computação</td>\n",
       "      <td>20.061728</td>\n",
       "    </tr>\n",
       "    <tr>\n",
       "      <th>4</th>\n",
       "      <td>5</td>\n",
       "      <td>Vale do Paraíba (com exceção de SJC)</td>\n",
       "      <td>M</td>\n",
       "      <td>Solteiro</td>\n",
       "      <td>Não tenho</td>\n",
       "      <td>20</td>\n",
       "      <td>171</td>\n",
       "      <td>69</td>\n",
       "      <td>Mercado de Trabalho</td>\n",
       "      <td>23.597004</td>\n",
       "    </tr>\n",
       "  </tbody>\n",
       "</table>\n",
       "</div>"
      ],
      "text/plain": [
       "   Número                     Região de Procedência Sexo Estado Civil  \\\n",
       "0       1  Outros municípios do estado de São Paulo    F     Solteiro   \n",
       "1       2  Outros municípios do estado de São Paulo    F     Solteiro   \n",
       "2       3                       São José dos Campos    M     Solteiro   \n",
       "3       4      Vale do Paraíba (com exceção de SJC)    M     Solteiro   \n",
       "4       5      Vale do Paraíba (com exceção de SJC)    M     Solteiro   \n",
       "\n",
       "  Número de Filhos  Idade  Altura  Peso  \\\n",
       "0        Não tenho     18     163    51   \n",
       "1        Não tenho     21     150    44   \n",
       "2        Não tenho     21     178    71   \n",
       "3        Não tenho     19     180    65   \n",
       "4        Não tenho     20     171    69   \n",
       "\n",
       "  Após a conclusão do BCT, você pretende fazer?        IMC  \n",
       "0          Bacharelado em Ciência da Computação  19.195303  \n",
       "1                      Engenharia da Computação  19.555556  \n",
       "2          Bacharelado em Ciência da Computação  22.408787  \n",
       "3                      Engenharia da Computação  20.061728  \n",
       "4                           Mercado de Trabalho  23.597004  "
      ]
     },
     "execution_count": 41,
     "metadata": {},
     "output_type": "execute_result"
    }
   ],
   "source": [
    "df.head()"
   ]
  },
  {
   "cell_type": "code",
   "execution_count": 126,
   "metadata": {},
   "outputs": [
    {
     "name": "stdout",
     "output_type": "stream",
     "text": [
      "<bound method DataFrame.to_numpy of     Número\n",
      "0        1\n",
      "1        2\n",
      "2        3\n",
      "3        4\n",
      "4        5\n",
      "5        6\n",
      "6        7\n",
      "7        8\n",
      "8        9\n",
      "9       10\n",
      "10      11\n",
      "11      12\n",
      "12      13\n",
      "13      14\n",
      "14      15\n",
      "15      16\n",
      "16      17\n",
      "17      18\n",
      "18      19\n",
      "19      20\n",
      "20      21\n",
      "21      22\n",
      "22      23\n",
      "23      24\n",
      "24      25\n",
      "25      26\n",
      "26      27\n",
      "27      28\n",
      "28      29\n",
      "29      30>\n"
     ]
    }
   ],
   "source": [
    "ids=df[['Número']].to_numpy\n",
    "print(ids)"
   ]
  },
  {
   "cell_type": "code",
   "execution_count": 42,
   "metadata": {
    "scrolled": true
   },
   "outputs": [
    {
     "data": {
      "text/plain": [
       "Número                                             int64\n",
       "Região de Procedência                             object\n",
       "Sexo                                              object\n",
       "Estado Civil                                      object\n",
       "Número de Filhos                                  object\n",
       "Idade                                              int64\n",
       "Altura                                             int64\n",
       "Peso                                               int64\n",
       "Após a conclusão do BCT, você pretende fazer?     object\n",
       "IMC                                              float64\n",
       "dtype: object"
      ]
     },
     "execution_count": 42,
     "metadata": {},
     "output_type": "execute_result"
    }
   ],
   "source": [
    "df.dtypes"
   ]
  },
  {
   "cell_type": "code",
   "execution_count": 45,
   "metadata": {},
   "outputs": [],
   "source": [
    "arr=df.to_numpy()"
   ]
  },
  {
   "cell_type": "code",
   "execution_count": 46,
   "metadata": {
    "scrolled": true
   },
   "outputs": [
    {
     "name": "stdout",
     "output_type": "stream",
     "text": [
      "[[1 'Outros municípios do estado de São Paulo' 'F' 'Solteiro' 'Não tenho'\n",
      "  18 163 51 'Bacharelado em Ciência da Computação' 19.195302796492154]\n",
      " [2 'Outros municípios do estado de São Paulo' 'F' 'Solteiro' 'Não tenho'\n",
      "  21 150 44 'Engenharia da Computação' 19.555555555555557]\n",
      " [3 'São José dos Campos' 'M' 'Solteiro' 'Não tenho' 21 178 71\n",
      "  'Bacharelado em Ciência da Computação' 22.408786769347305]\n",
      " [4 'Vale do Paraíba (com exceção de SJC)' 'M' 'Solteiro' 'Não tenho' 19\n",
      "  180 65 'Engenharia da Computação' 20.061728395061728]\n",
      " [5 'Vale do Paraíba (com exceção de SJC)' 'M' 'Solteiro' 'Não tenho' 20\n",
      "  171 69 'Mercado de Trabalho' 23.59700420642249]\n",
      " [6 'Outros municípios do estado de São Paulo' 'M' 'Solteiro' 'Não tenho'\n",
      "  22 180 88 'Engenharia de Materiais' 27.160493827160494]\n",
      " [7 'São José dos Campos' 'M' 'Solteiro' 'Não tenho' 19 162 43\n",
      "  'Engenharia de Materiais' 16.384697454656298]\n",
      " [8 'São José dos Campos' 'M' 'Solteiro' 'Não tenho' 18 180 66\n",
      "  'Engenharia de Materiais' 20.37037037037037]\n",
      " [9 'Vale do Paraíba (com exceção de SJC)' 'M' 'Solteiro' 'Não tenho' 24\n",
      "  177 124 'Bacharelado em Ciência da Computação' 39.57994190685945]\n",
      " [10 'Vale do Paraíba (com exceção de SJC)' 'F' 'Casado' 'Não tenho' 23\n",
      "  165 76 'Engenharia de Materiais' 27.915518824609737]\n",
      " [11 'Outros municípios do estado de São Paulo' 'M' 'Solteiro'\n",
      "  'Não tenho' 20 168 100 'Engenharia da Computação' 35.43083900226758]\n",
      " [12 'São José dos Campos' 'F' 'Solteiro' 'Não tenho' 22 159 50\n",
      "  'Engenharia de Materiais' 19.77769866698311]\n",
      " [13 'Outros municípios do estado de São Paulo' 'M' 'Solteiro'\n",
      "  'Não tenho' 27 171 74 'Mercado de Trabalho' 25.3069320474676]\n",
      " [14 'São José dos Campos' 'F' 'Solteiro' 'Não tenho' 20 166 55\n",
      "  'Engenharia de Materiais' 19.959355494266223]\n",
      " [15 'São José dos Campos' 'M' 'Solteiro' 'Não tenho' 20 180 70\n",
      "  'Engenharia da Computação' 21.604938271604937]\n",
      " [16 'Vale do Paraíba (com exceção de SJC)' 'M' 'Solteiro' 'Não tenho' 23\n",
      "  167 65 'Bacharelado em Matemática Computacional' 23.306680053067517]\n",
      " [17 'São José dos Campos' 'F' 'Solteiro' 'Não tenho' 18 168 53\n",
      "  'Engenharia de Materiais' 18.77834467120182]\n",
      " [18 'Outros municípios do estado de São Paulo' 'M' 'Solteiro'\n",
      "  'Não tenho' 19 167 60 'Engenharia da Computação' 21.513858510523864]\n",
      " [19 'Vale do Paraíba (com exceção de SJC)' 'F' 'Solteiro' 'Não tenho' 20\n",
      "  160 47 'Ainda estou indeciso(a)' 18.359374999999996]\n",
      " [20 'São José dos Campos' 'M' 'Casado' 1 35 186 100\n",
      "  'Engenharia de Materiais' 28.905075731298414]\n",
      " [21 'São José dos Campos' 'M' 'Solteiro' 'Não tenho' 19 185 95 'Outro'\n",
      "  27.757487216946675]\n",
      " [22 'Vale do Paraíba (com exceção de SJC)' 'F' 'Solteiro' 'Não tenho' 20\n",
      "  167 58 'Engenharia Biomédica' 20.796729893506402]\n",
      " [23 'São José dos Campos' 'F' 'Solteiro' 'Não tenho' 24 152 47\n",
      "  'Ainda estou indeciso(a)' 20.342797783933516]\n",
      " [24 'Outros estados da região sudeste' 'M' 'Solteiro' 'Não tenho' 18 194\n",
      "  70 'Engenharia Biomédica' 18.599213518971197]\n",
      " [25 'Vale do Paraíba (com exceção de SJC)' 'F' 'Casado' 1 31 169 57\n",
      "  'Ainda estou indeciso(a)' 19.95728440880922]\n",
      " [26 'São José dos Campos' 'M' 'Casado' 'Não tenho' 24 172 67\n",
      "  'Pós-graduação (Mestrado ou Doutorado direto)' 22.647376960519203]\n",
      " [27 'Vale do Paraíba (com exceção de SJC)' 'M' 'Solteiro' 'Não tenho' 23\n",
      "  179 70 'Engenharia de Materiais' 21.847008520333322]\n",
      " [28 'Outros municípios do estado de São Paulo' 'M' 'Solteiro' 1 20 180\n",
      "  82 'Engenharia da Computação' 25.30864197530864]\n",
      " [29 'São José dos Campos' 'F' 'Solteiro' 'Não tenho' 21 153 52\n",
      "  'Ainda estou indeciso(a)' 22.21367849972233]\n",
      " [30 'Outros municípios do estado de São Paulo' 'M' 'Solteiro'\n",
      "  'Não tenho' 22 175 85 'Não faço BCT' 27.755102040816325]]\n"
     ]
    }
   ],
   "source": [
    "print(arr)"
   ]
  },
  {
   "cell_type": "code",
   "execution_count": 48,
   "metadata": {},
   "outputs": [
    {
     "name": "stdout",
     "output_type": "stream",
     "text": [
      "30\n"
     ]
    }
   ],
   "source": [
    "count=len(arr)\n",
    "print(count)"
   ]
  },
  {
   "cell_type": "markdown",
   "metadata": {},
   "source": [
    "Definindo uma função para a média do imc"
   ]
  },
  {
   "cell_type": "code",
   "execution_count": 118,
   "metadata": {},
   "outputs": [
    {
     "name": "stdout",
     "output_type": "stream",
     "text": [
      "[[19.195302796492154], [19.555555555555557], [22.408786769347305], [20.061728395061728], [23.59700420642249], [27.160493827160494], [16.384697454656298], [20.37037037037037], [39.57994190685945], [27.915518824609737], [35.43083900226758], [19.77769866698311], [25.3069320474676], [19.959355494266223], [21.604938271604937], [23.306680053067517], [18.77834467120182], [21.513858510523864], [18.359374999999996], [28.905075731298414], [27.757487216946675], [20.796729893506402], [20.342797783933516], [18.599213518971197], [19.95728440880922], [22.647376960519203], [21.847008520333322], [25.30864197530864], [22.21367849972233], [27.755102040816325]]\n"
     ]
    }
   ],
   "source": [
    "imc=df[['IMC']].to_numpy()\n",
    "imc_list=imc.tolist()\n",
    "print(imc_list)"
   ]
  },
  {
   "cell_type": "markdown",
   "metadata": {},
   "source": [
    "Portanto sabemos que a média é:"
   ]
  },
  {
   "cell_type": "code",
   "execution_count": 97,
   "metadata": {},
   "outputs": [
    {
     "name": "stdout",
     "output_type": "stream",
     "text": [
      "[23.21326061]\n"
     ]
    }
   ],
   "source": [
    "soma=sum(imc)\n",
    "media=soma/count\n",
    "print(media)"
   ]
  },
  {
   "cell_type": "markdown",
   "metadata": {},
   "source": [
    "Plotando o gráfico do IMC"
   ]
  },
  {
   "cell_type": "code",
   "execution_count": 108,
   "metadata": {},
   "outputs": [],
   "source": [
    "import matplotlib.pyplot as plt"
   ]
  },
  {
   "cell_type": "code",
   "execution_count": 128,
   "metadata": {},
   "outputs": [
    {
     "data": {
      "text/plain": [
       "[<matplotlib.lines.Line2D at 0x1b696386520>]"
      ]
     },
     "execution_count": 128,
     "metadata": {},
     "output_type": "execute_result"
    },
    {
     "data": {
      "image/png": "[encoded data removed]",
      "text/plain": [
       "<Figure size 432x288 with 1 Axes>"
      ]
     },
     "metadata": {
      "needs_background": "light"
     },
     "output_type": "display_data"
    }
   ],
   "source": [
    "plt.plot(imc)\n"
   ]
  },
  {
   "cell_type": "markdown",
   "metadata": {},
   "source": [
    "Algoritmo para encontrar os saudáveis e não saudáveis e adicionar a um array"
   ]
  },
  {
   "cell_type": "code",
   "execution_count": 175,
   "metadata": {},
   "outputs": [],
   "source": [
    "#função recebe um array duplo de imcs e determina qual elemento vai para qual array\n",
    "def classify(IMC):\n",
    "    #neste caso o array 0 são os abaixo do peso, array 1 são os normais e array 2 são os acima do peso\n",
    "    classe=[[],[],[]]\n",
    "    for element in IMC:\n",
    "        for num in element:\n",
    "            if num<18.5:\n",
    "                classe[0].append(num)\n",
    "            elif (num<=24.9):\n",
    "                classe[1].append(num)\n",
    "                pass\n",
    "            else:\n",
    "                classe[2].append(num)\n",
    "                pass\n",
    "    return classe\n",
    "                "
   ]
  },
  {
   "cell_type": "code",
   "execution_count": 185,
   "metadata": {},
   "outputs": [
    {
     "name": "stdout",
     "output_type": "stream",
     "text": [
      "[[16.384697454656298, 18.359374999999996], [19.195302796492154, 19.555555555555557, 22.408786769347305, 20.061728395061728, 23.59700420642249, 20.37037037037037, 19.77769866698311, 19.959355494266223, 21.604938271604937, 23.306680053067517, 18.77834467120182, 21.513858510523864, 20.796729893506402, 20.342797783933516, 18.599213518971197, 19.95728440880922, 22.647376960519203, 21.847008520333322, 22.21367849972233], [27.160493827160494, 39.57994190685945, 27.915518824609737, 35.43083900226758, 25.3069320474676, 28.905075731298414, 27.757487216946675, 25.30864197530864, 27.755102040816325]]\n"
     ]
    }
   ],
   "source": [
    "#testeando se a função funciona\n",
    "arranjo_pesos_ordenados=classify(imc)\n",
    "print(arranjo_pesos_ordenados)"
   ]
  },
  {
   "cell_type": "code",
   "execution_count": 190,
   "metadata": {},
   "outputs": [],
   "source": [
    "#separando os arrays em tipo de peso\n",
    "abaixo_do_peso=arranjo_pesos_ordenados[0]\n",
    "peso_normal=arranjo_pesos_ordenados[1]\n",
    "obesos=arranjo_pesos_ordenados[2]\n",
    "#encontrando as quantidades de cada um\n",
    "quant_abaixo_peso=len(abaixo_do_peso)\n",
    "quant_peso_normal=len(peso_normal)\n",
    "quant_obesos=len(obesos)"
   ]
  },
  {
   "cell_type": "markdown",
   "metadata": {},
   "source": [
    "Plotando o gráfico para as quantidades de cada categoria"
   ]
  },
  {
   "cell_type": "code",
   "execution_count": 192,
   "metadata": {},
   "outputs": [
    {
     "data": {
      "text/plain": [
       "<BarContainer object of 3 artists>"
      ]
     },
     "execution_count": 192,
     "metadata": {},
     "output_type": "execute_result"
    },
    {
     "data": {
      "image/png": "[encoded data removed]",
      "text/plain": [
       "<Figure size 432x288 with 1 Axes>"
      ]
     },
     "metadata": {
      "needs_background": "light"
     },
     "output_type": "display_data"
    }
   ],
   "source": [
    "eixo_y=[quant_abaixo_peso,quant_peso_normal,quant_obesos]\n",
    "eixo_x=['Abaixo do Peso','Peso Normal','Sobrepeso ou Obeso']\n",
    "plt.bar(eixo_x,eixo_y)"
   ]
  }
 ],
 "metadata": {
  "kernelspec": {
   "display_name": "Python 3",
   "language": "python",
   "name": "python3"
  },
  "language_info": {
   "codemirror_mode": {
    "name": "ipython",
    "version": 3
   },
   "file_extension": ".py",
   "mimetype": "text/x-python",
   "name": "python",
   "nbconvert_exporter": "python",
   "pygments_lexer": "ipython3",
   "version": "3.8.5"
  }
 },
 "nbformat": 4,
 "nbformat_minor": 4
}
